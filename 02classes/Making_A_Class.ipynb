{
 "cells": [
  {
   "cell_type": "markdown",
   "metadata": {},
   "source": [
    "Last time, part of what we talked about was functions. functions were useful when we were performing the same operation or set of operations in our code at different places. Let's write a set of functions that we can use. We are going to make some functions that help us with calculations involving first order rate reactions."
   ]
  },
  {
   "cell_type": "markdown",
   "metadata": {},
   "source": [
    "We are going to need exponentiation and the natural log in the future. luckily these come in the math module that comes preinstalled with python. Run the cell below to give us access to the log and exp functions later."
   ]
  },
  {
   "cell_type": "code",
   "execution_count": 1,
   "metadata": {},
   "outputs": [],
   "source": [
    "from math import log, exp"
   ]
  },
  {
   "cell_type": "markdown",
   "metadata": {},
   "source": [
    "our first function `value_at_time` is going to take a rate constant, an amount of time, and an initial concnetration and return the new concentration at that time.\n",
    "\n",
    "$C_{t} = C_{i}e^{kt}$"
   ]
  },
  {
   "cell_type": "code",
   "execution_count": null,
   "metadata": {},
   "outputs": [
    {
     "name": "stdout",
     "output_type": "stream",
     "text": [
      "Test1 Passed\n",
      "Test2 Passed\n",
      "Test3 Passed\n"
     ]
    }
   ],
   "source": [
    "# Here i am using a slightly different syntax than you may be used to seeing for functions.\n",
    "# it is called type hinting and gives the user an idea of what types each parameter should be\n",
    "# and what type the function will return.\n",
    "def value_at_time(rate_constant:float, initial_concentration:float, time:float) -> float:\n",
    "    \n",
    "    # your code here\n",
    "    new_value = initial_concentration * exp(rate_constant*time)\n",
    "    \n",
    "    return new_value\n"
   ]
  },
  {
   "cell_type": "markdown",
   "metadata": {},
   "source": [
    "Very rarely do we want the value of a concentration at just one time. lets write a function `values_at_times` that takes the rate constant, an initial concnetration and a list of time values as parameters and lets return a list of corresponding values at that time. try writing this yourself using type hinting."
   ]
  },
  {
   "cell_type": "code",
   "execution_count": null,
   "metadata": {},
   "outputs": [],
   "source": [
    "# Your code here\n",
    "# HINT: for type hinting a list which is filled with strings the syntax would be var: list[str]\n",
    "\n",
    "def values_at_times(rate_constant:float,initial_concentration:float,time_values:list[float]) -> list[float]:\n",
    "    return [value_at_time(rate_constant,initial_concentration,time) for time in time_values]"
   ]
  },
  {
   "cell_type": "markdown",
   "metadata": {},
   "source": [
    "The rate constant for a reaction is never measured directly, rather we usually know some initial concentration and have some concentration at time t. We often want to check the reported rate constant innliterature or want to make sure we are calculating a proper rate constant. lets write a function `k_from_point` which takes an initial concentration, and a tuple where the first element is the time and the second element is the concnetration at that time and returns a rate constant.\n",
    "\n",
    "$k = \\frac{\\ln{\\frac{C_{t}}{C_{i}}}}{t}$\n",
    "\n",
    "remember that the `log` function we imported from the math module takes the natural log."
   ]
  },
  {
   "cell_type": "code",
   "execution_count": null,
   "metadata": {},
   "outputs": [],
   "source": [
    "def k_from_point(initial_concentration:float,point:tuple[float]) -> float:\n",
    "    return log(point[1]/initial_concentration)/point[0]"
   ]
  },
  {
   "cell_type": "markdown",
   "metadata": {},
   "source": [
    "This is great now if given an initial concentration and a point we can stitch together our functions and use them to find the concnetration at any other time. We could even write a function that stitches those together for us. An issue that might come up later is if we are keeping track of multiple reactions in our code then we can use variables  but there is a lot of processing. Additionally I have to make sure I am using the right initial concentration with the right rate constant it would be nice if these were grouped together as if in one object. We will us classes to do this, but first let's look at a simpler case to introduce classes, A bouncy ball."
   ]
  },
  {
   "cell_type": "code",
   "execution_count": null,
   "metadata": {},
   "outputs": [],
   "source": [
    "# Here I am creating a general class called a Ball we use the class keyword\n",
    "\n",
    "class Ball:\n",
    "\n",
    "    # functions in a class are called methods, variables with the prefix \"self.\" are called \"Attributes\" and are\n",
    "    # associated with individual instances of the class. The __init__ method is a special method that is called\n",
    "    # when we create and instance of the class that tells us what we need to instantiate the class. Any Method which\n",
    "    # needs access to the classes attributes needs to take \"self\" as it's first parameter. This will not need ot be \n",
    "    # filled when instantiating \"You will see later\"\n",
    "    def __init__(self,color:str,state:int = 0):\n",
    "        self.color = color\n",
    "        self.state = state\n",
    "    \n",
    "\n",
    "    # Here is an example of a method which modifies the ball's state atribute to three\n",
    "    def bounce(self):\n",
    "        self.state = 3\n",
    "\n",
    "    # here is a method that tells us the state of the ball then modifies it.\n",
    "    def watch(self):\n",
    "\n",
    "        if self.state == 3:\n",
    "            print(f\"The {self.color} ball hit the ceiling!\")\n",
    "            self.state = 2\n",
    "\n",
    "        elif self.state == 2:\n",
    "            print(f\"The {self.color} ball bounced to eye level.\")\n",
    "            self.state = 1\n",
    "\n",
    "        elif self.state == 1:\n",
    "            print(f\"The {self.color} ball barely bounced to your knee.\")\n",
    "            self.state = 0\n",
    "\n",
    "        elif self.state > 3:\n",
    "            print(f\"The {self.color} ball broke the ceiling!\")\n",
    "            self.state = 3\n",
    "\n",
    "        elif self.state < 1:\n",
    "            print(f\"The {self.color} ball is sitting still on the ground.\")\n",
    "            self.state = 0\n",
    "\n",
    "\n",
    "    # This method gives us some information about the ball.\n",
    "    def summary(self) -> str :\n",
    "\n",
    "        return f\"The {self.color} ball has a state of {self.state}.\"\n",
    "            \n",
    "        \n",
    "\n"
   ]
  },
  {
   "cell_type": "markdown",
   "metadata": {},
   "source": [
    "Let's use our ball class to try an learn about how we might use them to keepp track of state and group information."
   ]
  },
  {
   "cell_type": "code",
   "execution_count": null,
   "metadata": {},
   "outputs": [
    {
     "name": "stdout",
     "output_type": "stream",
     "text": [
      "The Red ball has a state of 0.\n",
      "The Blue ball has a state of 5.\n",
      "Red\n",
      "Blue\n",
      "The Red ball has a state of 3.\n",
      "The Blue ball has a state of 5.\n",
      "The Red ball hit the ceiling!\n",
      "The Red ball bounced to eye level.\n",
      "The Red ball has a state of 1.\n",
      "The Blue ball has a state of 5.\n"
     ]
    }
   ],
   "source": [
    "\n",
    "# Here We Instantiate two balls, a red one which we let start with the default state of 0 and a blue one with a starting state of 5.\n",
    "ball1 = Ball(\"Red\")\n",
    "ball2 = Ball(\"Blue\",state=5)\n",
    "\n",
    "# lets use their summary methods using dot notation to check them (notice how we dont pass in anything for self)\n",
    "print(ball1.summary())\n",
    "print(ball2.summary())\n",
    "\n",
    "# we can also access the attributes of each ball directly using dot notation.\n",
    "\n",
    "print(ball1.color)\n",
    "print(ball2.color)\n",
    "\n",
    "# now lets use ball1's bounce method and get the summary of each\n",
    "\n",
    "ball1.bounce()\n",
    "\n",
    "print(ball1.summary())\n",
    "print(ball2.summary())\n",
    "\n",
    "# Notice how the state of ball2 is concerved because it is a different instance\n",
    "\n",
    "# We can continue to watch and alter the state of ball1 and ball2 remains how it was.\n",
    "\n",
    "ball1.watch()\n",
    "ball1.watch()\n",
    "\n",
    "print(ball1.summary())\n",
    "print(ball2.summary())\n"
   ]
  }
 ],
 "metadata": {
  "kernelspec": {
   "display_name": "scienv",
   "language": "python",
   "name": "python3"
  },
  "language_info": {
   "codemirror_mode": {
    "name": "ipython",
    "version": 3
   },
   "file_extension": ".py",
   "mimetype": "text/x-python",
   "name": "python",
   "nbconvert_exporter": "python",
   "pygments_lexer": "ipython3",
   "version": "3.12.5"
  }
 },
 "nbformat": 4,
 "nbformat_minor": 2
}
