{
 "cells": [
  {
   "cell_type": "markdown",
   "metadata": {},
   "source": [
    "Last time, part of what we talked about was functions. functions were useful when we were performing the same operation or set of operations in our code at different places. Let's write a set of functions that we can use. We are going to make some functions that help us with calculations involving first order rate reactions."
   ]
  },
  {
   "cell_type": "markdown",
   "metadata": {},
   "source": [
    "We are going to need exponentiation and the natural log in the future. luckily these come in the math module that comes preinstalled with python. Run the cell below to give us access to the log and exp functions later."
   ]
  },
  {
   "cell_type": "code",
   "execution_count": 1,
   "metadata": {},
   "outputs": [],
   "source": [
    "from math import log, exp"
   ]
  },
  {
   "cell_type": "markdown",
   "metadata": {},
   "source": [
    "our first function `value_at_time` is going to take a rate constant, an amount of time, and an initial concnetration and return the new concentration at that time.\n",
    "\n",
    "$C_{t} = C_{i}e^{kt}$"
   ]
  },
  {
   "cell_type": "code",
   "execution_count": null,
   "metadata": {},
   "outputs": [],
   "source": [
    "# I am using something called type hinting here and it is not neccessary but can make your code easier to understand, debug, and use later.\n",
    "\n",
    "def value_At_time(rate_constant:float,initial_concentration:float) -> float:\n",
    "\n",
    "    return concentration_at_time"
   ]
  },
  {
   "cell_type": "markdown",
   "metadata": {},
   "source": [
    "Very rarely do we want the value of a concentration at just one time. lets write a function `values_at_times` that takes the rate constant, an initial concnetration and a list of time values as parameters and lets return a list of corresponding values at that time. try writing this yourself using type hinting."
   ]
  },
  {
   "cell_type": "code",
   "execution_count": null,
   "metadata": {},
   "outputs": [],
   "source": [
    "# Your code here\n",
    "# HINT: for type hinting a list which is filled with strings the syntax would be var: list[str]\n",
    "\n"
   ]
  },
  {
   "cell_type": "markdown",
   "metadata": {},
   "source": [
    "The rate constant for a reaction is never measured directly, rather we usually know some initial concentration and have some concentration at time t. We often want to check the reported rate constant innliterature or want to make sure we are calculating a proper rate constant. lets write a function `k_from_point` which takes an initial concentration, and a tuple where the first element is the time and the second element is the concnetration at that time and returns a rate constant.\n",
    "\n",
    "$k = \\frac{\\ln{\\frac{C_{t}}{C_{i}}}}{t}$\n",
    "\n",
    "remember that the `log` function we imported from the math module takes the natural log."
   ]
  },
  {
   "cell_type": "code",
   "execution_count": null,
   "metadata": {},
   "outputs": [],
   "source": [
    "#Your code here"
   ]
  },
  {
   "cell_type": "markdown",
   "metadata": {},
   "source": [
    "This is great now if given an initial concentration and a point we can stitch together our functions and use them to find the concnetration at any other time. We could even write a function that stitches those together for us. An issue that might come up later is if we are keeping track of multiple reactions in our code then we can use variables  but there is a lot of processing. Additionally I have to make sure I am using the right initial concentration with the right rate constant it would be nice if these were grouped together as if in one object. We will us classes to do this, but first let's look at a simpler case to introduce classes, An animal."
   ]
  },
  {
   "cell_type": "code",
   "execution_count": 5,
   "metadata": {},
   "outputs": [],
   "source": [
    "# Here I am creating a general class called a Ball we use the class keyword\n",
    "\n",
    "class Animal:\n",
    "\n",
    "    # functions in a class are called methods, variables with the prefix \"self.\" are called \"Attributes\" and are\n",
    "    # associated with individual instances of the class. The __init__ method is a special method that is called\n",
    "    # when we create and instance of the class that tells us what we need to instantiate the class. Any Method which\n",
    "    # needs access to the classes attributes needs to take \"self\" as it's first parameter. This will not need ot be \n",
    "    # filled when instantiating \"You will see later\"\n",
    "    def __init__(self,name:str,greeting:str=\"bark\"):\n",
    "        self.name = name\n",
    "        self.greeting = greeting\n",
    "        \n",
    "\n",
    "\n",
    "    # here is a method that tells us the state of the ball then modifies it.\n",
    "    def watch(self):\n",
    "\n",
    "        return f\"{self.name} frolics gleefully.\"\n",
    "\n",
    "\n",
    "    # This method gives us some information about the ball.\n",
    "    def greet(self) -> str :\n",
    "\n",
    "        return f'{self.greeting}'\n",
    "            \n",
    "        \n",
    "\n"
   ]
  },
  {
   "cell_type": "markdown",
   "metadata": {},
   "source": [
    "Let's play with the animal class to get used to them."
   ]
  },
  {
   "cell_type": "code",
   "execution_count": null,
   "metadata": {},
   "outputs": [],
   "source": [
    "# Your code here"
   ]
  },
  {
   "cell_type": "markdown",
   "metadata": {},
   "source": [
    "Let's make a class for our first order kinetics "
   ]
  },
  {
   "cell_type": "code",
   "execution_count": null,
   "metadata": {},
   "outputs": [],
   "source": [
    "# Your code here"
   ]
  },
  {
   "cell_type": "markdown",
   "metadata": {},
   "source": [
    "Now lets use it some"
   ]
  },
  {
   "cell_type": "code",
   "execution_count": 6,
   "metadata": {},
   "outputs": [],
   "source": [
    "# Your code here"
   ]
  },
  {
   "cell_type": "markdown",
   "metadata": {},
   "source": [
    "Now let's talk about objects in our usual code using pandas, matplotlib, and numpy."
   ]
  },
  {
   "cell_type": "code",
   "execution_count": 1,
   "metadata": {},
   "outputs": [],
   "source": [
    "import matplotlib.pyplot as plt\n",
    "import numpy as np\n",
    "import pandas as pd"
   ]
  },
  {
   "cell_type": "code",
   "execution_count": null,
   "metadata": {},
   "outputs": [],
   "source": [
    "# Your code here"
   ]
  }
 ],
 "metadata": {
  "kernelspec": {
   "display_name": "scienv",
   "language": "python",
   "name": "python3"
  },
  "language_info": {
   "codemirror_mode": {
    "name": "ipython",
    "version": 3
   },
   "file_extension": ".py",
   "mimetype": "text/x-python",
   "name": "python",
   "nbconvert_exporter": "python",
   "pygments_lexer": "ipython3",
   "version": "3.12.7"
  }
 },
 "nbformat": 4,
 "nbformat_minor": 2
}
