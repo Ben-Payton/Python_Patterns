{
 "cells": [
  {
   "cell_type": "markdown",
   "metadata": {},
   "source": [
    "#Generate Data\n",
    "Run the code block below before beginning"
   ]
  },
  {
   "cell_type": "code",
   "execution_count": null,
   "metadata": {},
   "outputs": [],
   "source": [
    "import numpy as np\n",
    "import pandas as pd\n",
    "x = pd.DataFrame({\n",
    "    \"reaction\":[\"rct1\",\"rct2\",\"rct3\",\"rct4\",\"rct5\"],\n",
    "    \"delta_G(kcal/mol)\":[-41.22,-33.10,10.111,-31.4152,-8.111],\n",
    "    \"Scientist_name\":[\"Ben\",\"Ben\",\"Steven\",\"Ben\",\"Steven\"]\n",
    "})\n",
    "x.to_csv(\"reaction_data.csv\")\n",
    "\n",
    "def gen_rand_file(file_number:int):\n",
    "    file_name = \"large_data\"+str(file_number)+\".txt\"\n",
    "    x = np.random.randint(1,1000001,10000)\n",
    "    x = list(x)\n",
    "    x = [str(i)+\"\\n\" for i in x]\n",
    "    with open(file_name,\"w\") as file:\n",
    "        file.writelines(x)\n",
    "\n",
    "for i in range(1,11):\n",
    "    gen_rand_file(i)"
   ]
  },
  {
   "cell_type": "markdown",
   "metadata": {},
   "source": [
    "# Loops\n",
    "\n",
    "you can recognize when you need a loop when you want to perform the same action a certain number of times on some set of objects."
   ]
  },
  {
   "cell_type": "markdown",
   "metadata": {},
   "source": [
    "## for loops"
   ]
  },
  {
   "cell_type": "markdown",
   "metadata": {},
   "source": [
    "for loops are good when you want to complete a task and you know exactly how many times. For example lets say we wanted to print a list of 5 file versions. We could write the code below. "
   ]
  },
  {
   "cell_type": "code",
   "execution_count": null,
   "metadata": {},
   "outputs": [],
   "source": [
    "\n",
    "print(\"file_name_V1.txt\")\n",
    "print(\"file_name_V2.txt\")\n",
    "print(\"file_name_V3.txt\")\n",
    "print(\"file_name_V4.txt\")\n",
    "print(\"file_name_V5.txt\")"
   ]
  },
  {
   "cell_type": "markdown",
   "metadata": {},
   "source": [
    "This isn't terrible, but it wouldn't scale very well and we could recognize the pattern and do something like this:"
   ]
  },
  {
   "cell_type": "code",
   "execution_count": null,
   "metadata": {},
   "outputs": [],
   "source": []
  },
  {
   "cell_type": "markdown",
   "metadata": {},
   "source": [
    "Not only is this less lines of code for more results we can easily change min and max later"
   ]
  },
  {
   "cell_type": "markdown",
   "metadata": {},
   "source": [
    "for loops are also good when you want to itterate through something of a fixed length. Below is an example set of numbers. Lets pretend these are temperatures of a system in units kelvin and we want to print them in units Celsius "
   ]
  },
  {
   "cell_type": "code",
   "execution_count": null,
   "metadata": {},
   "outputs": [],
   "source": [
    "numbers  = [9259.17, 706.09, 2518.31, 6829.44, 4464.02, 697.74, 8215.01]\n",
    "\n",
    "print(\"measurement 1:\",numbers[0]-273.15,\"C\")\n",
    "print(\"measurement 2:\",numbers[1]-273.15,\"C\")\n",
    "print(\"measurement 3:\",numbers[2]-273.15,\"C\")\n",
    "print(\"measurement 4:\",numbers[3]-273.15,\"C\")\n",
    "# and then the rest of them"
   ]
  },
  {
   "cell_type": "markdown",
   "metadata": {},
   "source": [
    "Again this works but it doesn't scale very well and you risk mistyping a conversion or having to hunt a typo to get syntax correct. Lets try again with a for loop."
   ]
  },
  {
   "cell_type": "code",
   "execution_count": null,
   "metadata": {},
   "outputs": [],
   "source": [
    "numbers  = [9259.17, 706.09, 2518.31, 6829.44, 4464.02, 697.74, 8215.01]\n"
   ]
  },
  {
   "cell_type": "markdown",
   "metadata": {},
   "source": [
    "## Loop through files"
   ]
  },
  {
   "cell_type": "markdown",
   "metadata": {},
   "source": [
    "It is common that we have large sets of data. Lets say Shubham sends you a file titled \"large_data1.txt\" (you can see it here in this folder.) He says \"hey can you let me know how many times a number less than 532 inclussive occurs in this data? THANKS!\". This file is 10,000 data points long. going through it manually would be awful. luckily this is a short for loop."
   ]
  },
  {
   "cell_type": "code",
   "execution_count": null,
   "metadata": {},
   "outputs": [],
   "source": []
  },
  {
   "cell_type": "markdown",
   "metadata": {},
   "source": [
    "# Functions"
   ]
  },
  {
   "cell_type": "markdown",
   "metadata": {},
   "source": [
    "This is great code, but lets say you need to write is multiple times. You keep performing this same task everywhere in your code. It would be nice if you could write it once and then never have to think about it again or if it wasn't working then you need want to just have to fix it in one spot. You are describing a function."
   ]
  },
  {
   "cell_type": "markdown",
   "metadata": {},
   "source": [
    "Lets take our last example where we counter instances of a number less than a cutoff in a large dataset. What if shubham gave us more data, or changed his mind about what number was the cutoff. It sould be nice to not have to go back and remember how our code works or have to find the spots to edit. Lets write a function that takes a file name and a cutoff and returns the number of instances less than that cuttoff\n"
   ]
  },
  {
   "cell_type": "code",
   "execution_count": 63,
   "metadata": {},
   "outputs": [],
   "source": [
    "def less_than_cutoff():\n",
    "    # put your code here\n",
    "    pass"
   ]
  },
  {
   "cell_type": "markdown",
   "metadata": {},
   "source": [
    "Now we can simply call our function on a data set and set the cutoff and get back to Shubham very quickly:"
   ]
  },
  {
   "cell_type": "code",
   "execution_count": null,
   "metadata": {},
   "outputs": [],
   "source": [
    "print(less_than_cutoff(\"large_data1.txt\",532))"
   ]
  },
  {
   "cell_type": "markdown",
   "metadata": {},
   "source": [
    "functions can actually be called inside other functions. This is why we wanted our output to be general earlier. we can make a function that returns a string output to out liking."
   ]
  },
  {
   "cell_type": "code",
   "execution_count": 65,
   "metadata": {},
   "outputs": [],
   "source": [
    "def report_ltc():\n",
    "    # put your code here\n",
    "    pass"
   ]
  },
  {
   "cell_type": "markdown",
   "metadata": {},
   "source": [
    "lets use our new report ltc function"
   ]
  },
  {
   "cell_type": "code",
   "execution_count": null,
   "metadata": {},
   "outputs": [],
   "source": [
    "print(report_ltc(\"large_data6.txt\",32345))"
   ]
  },
  {
   "cell_type": "markdown",
   "metadata": {},
   "source": [
    "pretty nifty, now lets see if we can loop through all the files using the glob package and get reports for all of them."
   ]
  },
  {
   "cell_type": "code",
   "execution_count": null,
   "metadata": {},
   "outputs": [],
   "source": []
  },
  {
   "cell_type": "markdown",
   "metadata": {},
   "source": [
    "If you are a little uncomfortable with glob here is what something without it might look like in this case."
   ]
  },
  {
   "cell_type": "code",
   "execution_count": null,
   "metadata": {},
   "outputs": [],
   "source": []
  }
 ],
 "metadata": {
  "kernelspec": {
   "display_name": "scienv",
   "language": "python",
   "name": "python3"
  },
  "language_info": {
   "codemirror_mode": {
    "name": "ipython",
    "version": 3
   },
   "file_extension": ".py",
   "mimetype": "text/x-python",
   "name": "python",
   "nbconvert_exporter": "python",
   "pygments_lexer": "ipython3",
   "version": "3.12.5"
  }
 },
 "nbformat": 4,
 "nbformat_minor": 2
}
